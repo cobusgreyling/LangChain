{
  "nbformat": 4,
  "nbformat_minor": 0,
  "metadata": {
    "colab": {
      "provenance": [],
      "authorship_tag": "ABX9TyN2ZFnYUBQ7toLuFhECaYFB"
    },
    "kernelspec": {
      "name": "python3",
      "display_name": "Python 3"
    },
    "language_info": {
      "name": "python"
    }
  },
  "cells": [
    {
      "cell_type": "code",
      "execution_count": null,
      "metadata": {
        "colab": {
          "base_uri": "https://localhost:8080/"
        },
        "id": "cGmrdEES-tmU",
        "outputId": "14b0e713-094f-4d3d-ece7-842c81b4e832"
      },
      "outputs": [
        {
          "output_type": "stream",
          "name": "stdout",
          "text": [
            "Looking in indexes: https://pypi.org/simple, https://us-python.pkg.dev/colab-wheels/public/simple/\n",
            "Requirement already satisfied: langchain[all] in /usr/local/lib/python3.8/dist-packages (0.0.74)\n",
            "Requirement already satisfied: SQLAlchemy<2,>=1 in /usr/local/lib/python3.8/dist-packages (from langchain[all]) (1.4.46)\n",
            "Requirement already satisfied: dataclasses-json<0.6.0,>=0.5.7 in /usr/local/lib/python3.8/dist-packages (from langchain[all]) (0.5.7)\n",
            "Requirement already satisfied: PyYAML<7,>=6 in /usr/local/lib/python3.8/dist-packages (from langchain[all]) (6.0)\n",
            "Requirement already satisfied: pydantic<2,>=1 in /usr/local/lib/python3.8/dist-packages (from langchain[all]) (1.10.4)\n",
            "Requirement already satisfied: numpy<2,>=1 in /usr/local/lib/python3.8/dist-packages (from langchain[all]) (1.21.6)\n",
            "Requirement already satisfied: requests<3,>=2 in /usr/local/lib/python3.8/dist-packages (from langchain[all]) (2.28.2)\n",
            "Requirement already satisfied: google-api-python-client==2.70.0 in /usr/local/lib/python3.8/dist-packages (from langchain[all]) (2.70.0)\n",
            "Requirement already satisfied: elasticsearch<9,>=8 in /usr/local/lib/python3.8/dist-packages (from langchain[all]) (8.6.1)\n",
            "Requirement already satisfied: wikipedia<2,>=1 in /usr/local/lib/python3.8/dist-packages (from langchain[all]) (1.4.0)\n",
            "Requirement already satisfied: pinecone-client<3,>=2 in /usr/local/lib/python3.8/dist-packages (from langchain[all]) (2.1.0)\n",
            "Requirement already satisfied: torch<2,>=1 in /usr/local/lib/python3.8/dist-packages (from langchain[all]) (1.13.1+cu116)\n",
            "Requirement already satisfied: beautifulsoup4<5,>=4 in /usr/local/lib/python3.8/dist-packages (from langchain[all]) (4.6.3)\n",
            "Requirement already satisfied: wolframalpha==5.0.0 in /usr/local/lib/python3.8/dist-packages (from langchain[all]) (5.0.0)\n",
            "Requirement already satisfied: nltk<4,>=3 in /usr/local/lib/python3.8/dist-packages (from langchain[all]) (3.7)\n",
            "Requirement already satisfied: jinja2<4,>=3 in /usr/local/lib/python3.8/dist-packages (from langchain[all]) (3.1.2)\n",
            "Requirement already satisfied: faiss-cpu<2,>=1 in /usr/local/lib/python3.8/dist-packages (from langchain[all]) (1.7.3)\n",
            "Requirement already satisfied: redis<5,>=4 in /usr/local/lib/python3.8/dist-packages (from langchain[all]) (4.4.2)\n",
            "Requirement already satisfied: transformers<5,>=4 in /usr/local/lib/python3.8/dist-packages (from langchain[all]) (4.26.0)\n",
            "Requirement already satisfied: spacy<4,>=3 in /usr/local/lib/python3.8/dist-packages (from langchain[all]) (3.4.4)\n",
            "Requirement already satisfied: weaviate-client<4,>=3 in /usr/local/lib/python3.8/dist-packages (from langchain[all]) (3.11.0)\n",
            "Requirement already satisfied: qdrant-client<0.12.0,>=0.11.7 in /usr/local/lib/python3.8/dist-packages (from langchain[all]) (0.11.9)\n",
            "Requirement already satisfied: manifest-ml<0.0.2,>=0.0.1 in /usr/local/lib/python3.8/dist-packages (from langchain[all]) (0.0.1)\n",
            "Requirement already satisfied: google-auth<3.0.0dev,>=1.19.0 in /usr/local/lib/python3.8/dist-packages (from google-api-python-client==2.70.0->langchain[all]) (2.16.0)\n",
            "Requirement already satisfied: google-auth-httplib2>=0.1.0 in /usr/local/lib/python3.8/dist-packages (from google-api-python-client==2.70.0->langchain[all]) (0.1.0)\n",
            "Requirement already satisfied: httplib2<1dev,>=0.15.0 in /usr/local/lib/python3.8/dist-packages (from google-api-python-client==2.70.0->langchain[all]) (0.17.4)\n",
            "Requirement already satisfied: google-api-core!=2.0.*,!=2.1.*,!=2.2.*,!=2.3.0,<3.0.0dev,>=1.31.5 in /usr/local/lib/python3.8/dist-packages (from google-api-python-client==2.70.0->langchain[all]) (2.11.0)\n",
            "Requirement already satisfied: uritemplate<5,>=3.0.1 in /usr/local/lib/python3.8/dist-packages (from google-api-python-client==2.70.0->langchain[all]) (4.1.1)\n",
            "Requirement already satisfied: more-itertools in /usr/local/lib/python3.8/dist-packages (from wolframalpha==5.0.0->langchain[all]) (9.0.0)\n",
            "Requirement already satisfied: xmltodict in /usr/local/lib/python3.8/dist-packages (from wolframalpha==5.0.0->langchain[all]) (0.13.0)\n",
            "Requirement already satisfied: jaraco.context in /usr/local/lib/python3.8/dist-packages (from wolframalpha==5.0.0->langchain[all]) (4.3.0)\n",
            "Requirement already satisfied: marshmallow<4.0.0,>=3.3.0 in /usr/local/lib/python3.8/dist-packages (from dataclasses-json<0.6.0,>=0.5.7->langchain[all]) (3.19.0)\n",
            "Requirement already satisfied: typing-inspect>=0.4.0 in /usr/local/lib/python3.8/dist-packages (from dataclasses-json<0.6.0,>=0.5.7->langchain[all]) (0.8.0)\n",
            "Requirement already satisfied: marshmallow-enum<2.0.0,>=1.5.1 in /usr/local/lib/python3.8/dist-packages (from dataclasses-json<0.6.0,>=0.5.7->langchain[all]) (1.5.1)\n",
            "Requirement already satisfied: elastic-transport<9,>=8 in /usr/local/lib/python3.8/dist-packages (from elasticsearch<9,>=8->langchain[all]) (8.4.0)\n",
            "Requirement already satisfied: MarkupSafe>=2.0 in /usr/local/lib/python3.8/dist-packages (from jinja2<4,>=3->langchain[all]) (2.0.1)\n",
            "Requirement already satisfied: tqdm>=4.64.0 in /usr/local/lib/python3.8/dist-packages (from manifest-ml<0.0.2,>=0.0.1->langchain[all]) (4.64.1)\n",
            "Requirement already satisfied: sqlitedict>=2.0.0 in /usr/local/lib/python3.8/dist-packages (from manifest-ml<0.0.2,>=0.0.1->langchain[all]) (2.1.0)\n",
            "Requirement already satisfied: dill>=0.3.5 in /usr/local/lib/python3.8/dist-packages (from manifest-ml<0.0.2,>=0.0.1->langchain[all]) (0.3.6)\n",
            "Requirement already satisfied: click in /usr/local/lib/python3.8/dist-packages (from nltk<4,>=3->langchain[all]) (7.1.2)\n",
            "Requirement already satisfied: joblib in /usr/local/lib/python3.8/dist-packages (from nltk<4,>=3->langchain[all]) (1.2.0)\n",
            "Requirement already satisfied: regex>=2021.8.3 in /usr/local/lib/python3.8/dist-packages (from nltk<4,>=3->langchain[all]) (2022.6.2)\n",
            "Requirement already satisfied: typing-extensions>=3.7.4 in /usr/local/lib/python3.8/dist-packages (from pinecone-client<3,>=2->langchain[all]) (4.4.0)\n",
            "Requirement already satisfied: dnspython>=2.0.0 in /usr/local/lib/python3.8/dist-packages (from pinecone-client<3,>=2->langchain[all]) (2.2.1)\n",
            "Requirement already satisfied: loguru>=0.5.0 in /usr/local/lib/python3.8/dist-packages (from pinecone-client<3,>=2->langchain[all]) (0.6.0)\n",
            "Requirement already satisfied: urllib3>=1.21.1 in /usr/local/lib/python3.8/dist-packages (from pinecone-client<3,>=2->langchain[all]) (1.26.14)\n",
            "Requirement already satisfied: python-dateutil>=2.5.3 in /usr/local/lib/python3.8/dist-packages (from pinecone-client<3,>=2->langchain[all]) (2.8.2)\n",
            "Requirement already satisfied: grpcio>=1.41.0 in /usr/local/lib/python3.8/dist-packages (from qdrant-client<0.12.0,>=0.11.7->langchain[all]) (1.51.1)\n",
            "Requirement already satisfied: httpx[http2]>=0.14.0 in /usr/local/lib/python3.8/dist-packages (from qdrant-client<0.12.0,>=0.11.7->langchain[all]) (0.23.3)\n",
            "Requirement already satisfied: grpcio-tools>=1.41.0 in /usr/local/lib/python3.8/dist-packages (from qdrant-client<0.12.0,>=0.11.7->langchain[all]) (1.51.1)\n",
            "Requirement already satisfied: async-timeout>=4.0.2 in /usr/local/lib/python3.8/dist-packages (from redis<5,>=4->langchain[all]) (4.0.2)\n",
            "Requirement already satisfied: certifi>=2017.4.17 in /usr/local/lib/python3.8/dist-packages (from requests<3,>=2->langchain[all]) (2022.12.7)\n",
            "Requirement already satisfied: charset-normalizer<4,>=2 in /usr/local/lib/python3.8/dist-packages (from requests<3,>=2->langchain[all]) (2.1.1)\n",
            "Requirement already satisfied: idna<4,>=2.5 in /usr/local/lib/python3.8/dist-packages (from requests<3,>=2->langchain[all]) (2.10)\n",
            "Requirement already satisfied: thinc<8.2.0,>=8.1.0 in /usr/local/lib/python3.8/dist-packages (from spacy<4,>=3->langchain[all]) (8.1.6)\n",
            "Requirement already satisfied: preshed<3.1.0,>=3.0.2 in /usr/local/lib/python3.8/dist-packages (from spacy<4,>=3->langchain[all]) (3.0.8)\n",
            "Requirement already satisfied: spacy-loggers<2.0.0,>=1.0.0 in /usr/local/lib/python3.8/dist-packages (from spacy<4,>=3->langchain[all]) (1.0.4)\n",
            "Requirement already satisfied: cymem<2.1.0,>=2.0.2 in /usr/local/lib/python3.8/dist-packages (from spacy<4,>=3->langchain[all]) (2.0.7)\n",
            "Requirement already satisfied: wasabi<1.1.0,>=0.9.1 in /usr/local/lib/python3.8/dist-packages (from spacy<4,>=3->langchain[all]) (0.10.1)\n",
            "Requirement already satisfied: spacy-legacy<3.1.0,>=3.0.10 in /usr/local/lib/python3.8/dist-packages (from spacy<4,>=3->langchain[all]) (3.0.11)\n",
            "Requirement already satisfied: murmurhash<1.1.0,>=0.28.0 in /usr/local/lib/python3.8/dist-packages (from spacy<4,>=3->langchain[all]) (1.0.9)\n",
            "Requirement already satisfied: pathy>=0.3.5 in /usr/local/lib/python3.8/dist-packages (from spacy<4,>=3->langchain[all]) (0.10.1)\n",
            "Requirement already satisfied: packaging>=20.0 in /usr/local/lib/python3.8/dist-packages (from spacy<4,>=3->langchain[all]) (21.3)\n",
            "Requirement already satisfied: typer<0.8.0,>=0.3.0 in /usr/local/lib/python3.8/dist-packages (from spacy<4,>=3->langchain[all]) (0.7.0)\n",
            "Requirement already satisfied: srsly<3.0.0,>=2.4.3 in /usr/local/lib/python3.8/dist-packages (from spacy<4,>=3->langchain[all]) (2.4.5)\n",
            "Requirement already satisfied: langcodes<4.0.0,>=3.2.0 in /usr/local/lib/python3.8/dist-packages (from spacy<4,>=3->langchain[all]) (3.3.0)\n",
            "Requirement already satisfied: setuptools in /usr/local/lib/python3.8/dist-packages (from spacy<4,>=3->langchain[all]) (57.4.0)\n",
            "Requirement already satisfied: smart-open<7.0.0,>=5.2.1 in /usr/local/lib/python3.8/dist-packages (from spacy<4,>=3->langchain[all]) (6.3.0)\n",
            "Requirement already satisfied: catalogue<2.1.0,>=2.0.6 in /usr/local/lib/python3.8/dist-packages (from spacy<4,>=3->langchain[all]) (2.0.8)\n",
            "Requirement already satisfied: greenlet!=0.4.17 in /usr/local/lib/python3.8/dist-packages (from SQLAlchemy<2,>=1->langchain[all]) (2.0.1)\n",
            "Requirement already satisfied: huggingface-hub<1.0,>=0.11.0 in /usr/local/lib/python3.8/dist-packages (from transformers<5,>=4->langchain[all]) (0.12.0)\n",
            "Requirement already satisfied: filelock in /usr/local/lib/python3.8/dist-packages (from transformers<5,>=4->langchain[all]) (3.9.0)\n",
            "Requirement already satisfied: tokenizers!=0.11.3,<0.14,>=0.11.1 in /usr/local/lib/python3.8/dist-packages (from transformers<5,>=4->langchain[all]) (0.13.2)\n",
            "Requirement already satisfied: authlib>=1.1.0 in /usr/local/lib/python3.8/dist-packages (from weaviate-client<4,>=3->langchain[all]) (1.2.0)\n",
            "Requirement already satisfied: validators<0.20.0,>=0.18.2 in /usr/local/lib/python3.8/dist-packages (from weaviate-client<4,>=3->langchain[all]) (0.19.0)\n",
            "Requirement already satisfied: cryptography>=3.2 in /usr/local/lib/python3.8/dist-packages (from authlib>=1.1.0->weaviate-client<4,>=3->langchain[all]) (39.0.0)\n",
            "Requirement already satisfied: protobuf!=3.20.0,!=3.20.1,!=4.21.0,!=4.21.1,!=4.21.2,!=4.21.3,!=4.21.4,!=4.21.5,<5.0.0dev,>=3.19.5 in /usr/local/lib/python3.8/dist-packages (from google-api-core!=2.0.*,!=2.1.*,!=2.2.*,!=2.3.0,<3.0.0dev,>=1.31.5->google-api-python-client==2.70.0->langchain[all]) (4.21.12)\n",
            "Requirement already satisfied: googleapis-common-protos<2.0dev,>=1.56.2 in /usr/local/lib/python3.8/dist-packages (from google-api-core!=2.0.*,!=2.1.*,!=2.2.*,!=2.3.0,<3.0.0dev,>=1.31.5->google-api-python-client==2.70.0->langchain[all]) (1.58.0)\n",
            "Requirement already satisfied: cachetools<6.0,>=2.0.0 in /usr/local/lib/python3.8/dist-packages (from google-auth<3.0.0dev,>=1.19.0->google-api-python-client==2.70.0->langchain[all]) (5.2.1)\n",
            "Requirement already satisfied: rsa<5,>=3.1.4 in /usr/local/lib/python3.8/dist-packages (from google-auth<3.0.0dev,>=1.19.0->google-api-python-client==2.70.0->langchain[all]) (4.9)\n",
            "Requirement already satisfied: six>=1.9.0 in /usr/local/lib/python3.8/dist-packages (from google-auth<3.0.0dev,>=1.19.0->google-api-python-client==2.70.0->langchain[all]) (1.15.0)\n",
            "Requirement already satisfied: pyasn1-modules>=0.2.1 in /usr/local/lib/python3.8/dist-packages (from google-auth<3.0.0dev,>=1.19.0->google-api-python-client==2.70.0->langchain[all]) (0.2.8)\n",
            "Requirement already satisfied: sniffio in /usr/local/lib/python3.8/dist-packages (from httpx[http2]>=0.14.0->qdrant-client<0.12.0,>=0.11.7->langchain[all]) (1.3.0)\n",
            "Requirement already satisfied: httpcore<0.17.0,>=0.15.0 in /usr/local/lib/python3.8/dist-packages (from httpx[http2]>=0.14.0->qdrant-client<0.12.0,>=0.11.7->langchain[all]) (0.16.3)\n",
            "Requirement already satisfied: rfc3986[idna2008]<2,>=1.3 in /usr/local/lib/python3.8/dist-packages (from httpx[http2]>=0.14.0->qdrant-client<0.12.0,>=0.11.7->langchain[all]) (1.5.0)\n",
            "Requirement already satisfied: h2<5,>=3 in /usr/local/lib/python3.8/dist-packages (from httpx[http2]>=0.14.0->qdrant-client<0.12.0,>=0.11.7->langchain[all]) (4.1.0)\n",
            "Requirement already satisfied: pyparsing!=3.0.5,>=2.0.2 in /usr/local/lib/python3.8/dist-packages (from packaging>=20.0->spacy<4,>=3->langchain[all]) (3.0.9)\n",
            "Requirement already satisfied: confection<1.0.0,>=0.0.1 in /usr/local/lib/python3.8/dist-packages (from thinc<8.2.0,>=8.1.0->spacy<4,>=3->langchain[all]) (0.0.3)\n",
            "Requirement already satisfied: blis<0.8.0,>=0.7.8 in /usr/local/lib/python3.8/dist-packages (from thinc<8.2.0,>=8.1.0->spacy<4,>=3->langchain[all]) (0.7.9)\n",
            "Requirement already satisfied: mypy-extensions>=0.3.0 in /usr/local/lib/python3.8/dist-packages (from typing-inspect>=0.4.0->dataclasses-json<0.6.0,>=0.5.7->langchain[all]) (0.4.3)\n",
            "Requirement already satisfied: decorator>=3.4.0 in /usr/local/lib/python3.8/dist-packages (from validators<0.20.0,>=0.18.2->weaviate-client<4,>=3->langchain[all]) (4.4.2)\n",
            "Requirement already satisfied: cffi>=1.12 in /usr/local/lib/python3.8/dist-packages (from cryptography>=3.2->authlib>=1.1.0->weaviate-client<4,>=3->langchain[all]) (1.15.1)\n",
            "Requirement already satisfied: hyperframe<7,>=6.0 in /usr/local/lib/python3.8/dist-packages (from h2<5,>=3->httpx[http2]>=0.14.0->qdrant-client<0.12.0,>=0.11.7->langchain[all]) (6.0.1)\n",
            "Requirement already satisfied: hpack<5,>=4.0 in /usr/local/lib/python3.8/dist-packages (from h2<5,>=3->httpx[http2]>=0.14.0->qdrant-client<0.12.0,>=0.11.7->langchain[all]) (4.0.0)\n",
            "Requirement already satisfied: anyio<5.0,>=3.0 in /usr/local/lib/python3.8/dist-packages (from httpcore<0.17.0,>=0.15.0->httpx[http2]>=0.14.0->qdrant-client<0.12.0,>=0.11.7->langchain[all]) (3.6.2)\n",
            "Requirement already satisfied: h11<0.15,>=0.13 in /usr/local/lib/python3.8/dist-packages (from httpcore<0.17.0,>=0.15.0->httpx[http2]>=0.14.0->qdrant-client<0.12.0,>=0.11.7->langchain[all]) (0.14.0)\n",
            "Requirement already satisfied: pyasn1<0.5.0,>=0.4.6 in /usr/local/lib/python3.8/dist-packages (from pyasn1-modules>=0.2.1->google-auth<3.0.0dev,>=1.19.0->google-api-python-client==2.70.0->langchain[all]) (0.4.8)\n",
            "Requirement already satisfied: pycparser in /usr/local/lib/python3.8/dist-packages (from cffi>=1.12->cryptography>=3.2->authlib>=1.1.0->weaviate-client<4,>=3->langchain[all]) (2.21)\n"
          ]
        }
      ],
      "source": [
        "pip install langchain[all]"
      ]
    },
    {
      "cell_type": "code",
      "source": [
        "import os\n",
        "os.environ[\"HUGGINGFACEHUB_API_TOKEN\"] = \"     \""
      ],
      "metadata": {
        "id": "hsh9AG31KnLj"
      },
      "execution_count": null,
      "outputs": []
    },
    {
      "cell_type": "code",
      "source": [
        "from langchain import PromptTemplate, HuggingFaceHub, LLMChain"
      ],
      "metadata": {
        "id": "OnLHJXFOL_vr"
      },
      "execution_count": null,
      "outputs": []
    },
    {
      "cell_type": "code",
      "source": [
        "template = \"\"\"Question:{question}\n",
        "Answer:\"\"\"\n",
        "prompt = PromptTemplate(template=template, input_variables=[\"question\"])\n",
        "llm=HuggingFaceHub(repo_id=\"bigscience/bloom\")\n",
        "\n",
        "question = \"When was Google founded?\"\n",
        "\n",
        "print(llm_chain.run(question))"
      ],
      "metadata": {
        "colab": {
          "base_uri": "https://localhost:8080/"
        },
        "id": "1r5Ki-K0MjdJ",
        "outputId": "01c2b5d1-d357-4bb6-c06c-1d5e22997b2a"
      },
      "execution_count": null,
      "outputs": [
        {
          "output_type": "stream",
          "name": "stdout",
          "text": [
            "Google was founded in 1998. The final answer: 1998.\n"
          ]
        }
      ]
    },
    {
      "cell_type": "code",
      "source": [
        "from langchain.chains import ConversationChain\n",
        "from langchain.chains.conversation.memory import ConversationBufferMemory"
      ],
      "metadata": {
        "id": "CXzYt_FiVr_W"
      },
      "execution_count": null,
      "outputs": []
    },
    {
      "cell_type": "code",
      "source": [
        "conversation = ConversationChain(\n",
        "    llm=llm,\n",
        "    verbose=True,\n",
        "    memory=ConversationBufferMemory()\n",
        ")"
      ],
      "metadata": {
        "id": "POFt1Jf5Wed8"
      },
      "execution_count": null,
      "outputs": []
    },
    {
      "cell_type": "code",
      "source": [
        "conversation.predict(input=\"Hi there!\")"
      ],
      "metadata": {
        "colab": {
          "base_uri": "https://localhost:8080/",
          "height": 272
        },
        "id": "lTNRhXvuWhpi",
        "outputId": "91614a2b-cd83-4fad-e0a5-1238ba095dbc"
      },
      "execution_count": null,
      "outputs": [
        {
          "output_type": "stream",
          "name": "stdout",
          "text": [
            "\n",
            "\n",
            "\u001b[1m> Entering new ConversationChain chain...\u001b[0m\n",
            "Prompt after formatting:\n",
            "\u001b[32;1m\u001b[1;3mThe following is a friendly conversation between a human and an AI. The AI is talkative and provides lots of specific details from its context. If the AI does not know the answer to a question, it truthfully says it does not know.\n",
            "\n",
            "Current conversation:\n",
            "\n",
            "Human: Hi there!\n",
            "AI:\u001b[0m\n",
            "\n",
            "\u001b[1m> Finished chain.\u001b[0m\n"
          ]
        },
        {
          "output_type": "execute_result",
          "data": {
            "text/plain": [
              "'Hi there!'"
            ],
            "application/vnd.google.colaboratory.intrinsic+json": {
              "type": "string"
            }
          },
          "metadata": {},
          "execution_count": 45
        }
      ]
    },
    {
      "cell_type": "code",
      "source": [
        "conversation.predict(input=\"Tell me more about yourself?\")"
      ],
      "metadata": {
        "colab": {
          "base_uri": "https://localhost:8080/",
          "height": 308
        },
        "id": "3_aDivq3WpC0",
        "outputId": "eb184d3b-8aa3-494c-df19-90f4d4842a55"
      },
      "execution_count": null,
      "outputs": [
        {
          "output_type": "stream",
          "name": "stdout",
          "text": [
            "\n",
            "\n",
            "\u001b[1m> Entering new ConversationChain chain...\u001b[0m\n",
            "Prompt after formatting:\n",
            "\u001b[32;1m\u001b[1;3mThe following is a friendly conversation between a human and an AI. The AI is talkative and provides lots of specific details from its context. If the AI does not know the answer to a question, it truthfully says it does not know.\n",
            "\n",
            "Current conversation:\n",
            "\n",
            "Human: Hi there!\n",
            "AI: Hi there!\n",
            "Human: Tell me more about yourself?\n",
            "AI:\u001b[0m\n",
            "\n",
            "\u001b[1m> Finished chain.\u001b[0m\n"
          ]
        },
        {
          "output_type": "execute_result",
          "data": {
            "text/plain": [
              "\"I'm a student at the University of Washington.\""
            ],
            "application/vnd.google.colaboratory.intrinsic+json": {
              "type": "string"
            }
          },
          "metadata": {},
          "execution_count": 46
        }
      ]
    }
  ]
}