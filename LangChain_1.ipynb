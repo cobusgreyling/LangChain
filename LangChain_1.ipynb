{
  "nbformat": 4,
  "nbformat_minor": 0,
  "metadata": {
    "colab": {
      "provenance": [],
      "authorship_tag": "ABX9TyMNtWhqp4yt7Ho60OxtHjaO"
    },
    "kernelspec": {
      "name": "python3",
      "display_name": "Python 3"
    },
    "language_info": {
      "name": "python"
    }
  },
  "cells": [
    {
      "cell_type": "code",
      "execution_count": null,
      "metadata": {
        "colab": {
          "base_uri": "https://localhost:8080/"
        },
        "id": "iPvuDuKuiyGp",
        "outputId": "d7cbf390-ae55-4a89-e003-78546160e62a"
      },
      "outputs": [
        {
          "output_type": "stream",
          "name": "stdout",
          "text": [
            "Looking in indexes: https://pypi.org/simple, https://us-python.pkg.dev/colab-wheels/public/simple/\n",
            "Requirement already satisfied: langchain in /usr/local/lib/python3.8/dist-packages (0.0.69)\n",
            "Requirement already satisfied: pydantic<2,>=1 in /usr/local/lib/python3.8/dist-packages (from langchain) (1.10.4)\n",
            "Requirement already satisfied: numpy<2,>=1 in /usr/local/lib/python3.8/dist-packages (from langchain) (1.21.6)\n",
            "Requirement already satisfied: PyYAML<7,>=6 in /usr/local/lib/python3.8/dist-packages (from langchain) (6.0)\n",
            "Requirement already satisfied: requests<3,>=2 in /usr/local/lib/python3.8/dist-packages (from langchain) (2.28.2)\n",
            "Requirement already satisfied: SQLAlchemy<2,>=1 in /usr/local/lib/python3.8/dist-packages (from langchain) (1.4.46)\n",
            "Requirement already satisfied: typing-extensions>=4.2.0 in /usr/local/lib/python3.8/dist-packages (from pydantic<2,>=1->langchain) (4.4.0)\n",
            "Requirement already satisfied: certifi>=2017.4.17 in /usr/local/lib/python3.8/dist-packages (from requests<3,>=2->langchain) (2022.12.7)\n",
            "Requirement already satisfied: urllib3<1.27,>=1.21.1 in /usr/local/lib/python3.8/dist-packages (from requests<3,>=2->langchain) (1.26.14)\n",
            "Requirement already satisfied: charset-normalizer<4,>=2 in /usr/local/lib/python3.8/dist-packages (from requests<3,>=2->langchain) (2.1.1)\n",
            "Requirement already satisfied: idna<4,>=2.5 in /usr/local/lib/python3.8/dist-packages (from requests<3,>=2->langchain) (2.10)\n",
            "Requirement already satisfied: greenlet!=0.4.17 in /usr/local/lib/python3.8/dist-packages (from SQLAlchemy<2,>=1->langchain) (2.0.1)\n"
          ]
        }
      ],
      "source": [
        "pip install langchain"
      ]
    },
    {
      "cell_type": "code",
      "source": [
        "pip install langchain[all]"
      ],
      "metadata": {
        "colab": {
          "base_uri": "https://localhost:8080/"
        },
        "id": "rm7JHivuj6Ne",
        "outputId": "34772ea9-84ac-454c-ab18-d051f64e90af"
      },
      "execution_count": null,
      "outputs": [
        {
          "output_type": "stream",
          "name": "stdout",
          "text": [
            "Looking in indexes: https://pypi.org/simple, https://us-python.pkg.dev/colab-wheels/public/simple/\n",
            "Requirement already satisfied: langchain[all] in /usr/local/lib/python3.8/dist-packages (0.0.69)\n",
            "Requirement already satisfied: numpy<2,>=1 in /usr/local/lib/python3.8/dist-packages (from langchain[all]) (1.21.6)\n",
            "Requirement already satisfied: SQLAlchemy<2,>=1 in /usr/local/lib/python3.8/dist-packages (from langchain[all]) (1.4.46)\n",
            "Requirement already satisfied: requests<3,>=2 in /usr/local/lib/python3.8/dist-packages (from langchain[all]) (2.28.2)\n",
            "Requirement already satisfied: pydantic<2,>=1 in /usr/local/lib/python3.8/dist-packages (from langchain[all]) (1.10.4)\n",
            "Requirement already satisfied: PyYAML<7,>=6 in /usr/local/lib/python3.8/dist-packages (from langchain[all]) (6.0)\n",
            "Requirement already satisfied: faiss-cpu<2,>=1 in /usr/local/lib/python3.8/dist-packages (from langchain[all]) (1.7.3)\n",
            "Requirement already satisfied: nltk<4,>=3 in /usr/local/lib/python3.8/dist-packages (from langchain[all]) (3.7)\n",
            "Requirement already satisfied: spacy<4,>=3 in /usr/local/lib/python3.8/dist-packages (from langchain[all]) (3.4.4)\n",
            "Requirement already satisfied: pinecone-client<3,>=2 in /usr/local/lib/python3.8/dist-packages (from langchain[all]) (2.1.0)\n",
            "Requirement already satisfied: jinja2<4,>=3 in /usr/local/lib/python3.8/dist-packages (from langchain[all]) (3.1.2)\n",
            "Requirement already satisfied: manifest-ml<0.0.2,>=0.0.1 in /usr/local/lib/python3.8/dist-packages (from langchain[all]) (0.0.1)\n",
            "Requirement already satisfied: google-api-python-client==2.70.0 in /usr/local/lib/python3.8/dist-packages (from langchain[all]) (2.70.0)\n",
            "Requirement already satisfied: elasticsearch<9,>=8 in /usr/local/lib/python3.8/dist-packages (from langchain[all]) (8.6.0)\n",
            "Requirement already satisfied: torch<2,>=1 in /usr/local/lib/python3.8/dist-packages (from langchain[all]) (1.13.1+cu116)\n",
            "Requirement already satisfied: wikipedia<2,>=1 in /usr/local/lib/python3.8/dist-packages (from langchain[all]) (1.4.0)\n",
            "Requirement already satisfied: transformers<5,>=4 in /usr/local/lib/python3.8/dist-packages (from langchain[all]) (4.25.1)\n",
            "Requirement already satisfied: weaviate-client<4,>=3 in /usr/local/lib/python3.8/dist-packages (from langchain[all]) (3.11.0)\n",
            "Requirement already satisfied: wolframalpha==5.0.0 in /usr/local/lib/python3.8/dist-packages (from langchain[all]) (5.0.0)\n",
            "Requirement already satisfied: beautifulsoup4<5,>=4 in /usr/local/lib/python3.8/dist-packages (from langchain[all]) (4.6.3)\n",
            "Requirement already satisfied: redis<5,>=4 in /usr/local/lib/python3.8/dist-packages (from langchain[all]) (4.4.2)\n",
            "Requirement already satisfied: qdrant-client<0.12.0,>=0.11.7 in /usr/local/lib/python3.8/dist-packages (from langchain[all]) (0.11.9)\n",
            "Requirement already satisfied: google-auth-httplib2>=0.1.0 in /usr/local/lib/python3.8/dist-packages (from google-api-python-client==2.70.0->langchain[all]) (0.1.0)\n",
            "Requirement already satisfied: google-auth<3.0.0dev,>=1.19.0 in /usr/local/lib/python3.8/dist-packages (from google-api-python-client==2.70.0->langchain[all]) (2.16.0)\n",
            "Requirement already satisfied: uritemplate<5,>=3.0.1 in /usr/local/lib/python3.8/dist-packages (from google-api-python-client==2.70.0->langchain[all]) (4.1.1)\n",
            "Requirement already satisfied: google-api-core!=2.0.*,!=2.1.*,!=2.2.*,!=2.3.0,<3.0.0dev,>=1.31.5 in /usr/local/lib/python3.8/dist-packages (from google-api-python-client==2.70.0->langchain[all]) (2.11.0)\n",
            "Requirement already satisfied: httplib2<1dev,>=0.15.0 in /usr/local/lib/python3.8/dist-packages (from google-api-python-client==2.70.0->langchain[all]) (0.17.4)\n",
            "Requirement already satisfied: jaraco.context in /usr/local/lib/python3.8/dist-packages (from wolframalpha==5.0.0->langchain[all]) (4.3.0)\n",
            "Requirement already satisfied: xmltodict in /usr/local/lib/python3.8/dist-packages (from wolframalpha==5.0.0->langchain[all]) (0.13.0)\n",
            "Requirement already satisfied: more-itertools in /usr/local/lib/python3.8/dist-packages (from wolframalpha==5.0.0->langchain[all]) (9.0.0)\n",
            "Requirement already satisfied: elastic-transport<9,>=8 in /usr/local/lib/python3.8/dist-packages (from elasticsearch<9,>=8->langchain[all]) (8.4.0)\n",
            "Requirement already satisfied: MarkupSafe>=2.0 in /usr/local/lib/python3.8/dist-packages (from jinja2<4,>=3->langchain[all]) (2.0.1)\n",
            "Requirement already satisfied: dill>=0.3.5 in /usr/local/lib/python3.8/dist-packages (from manifest-ml<0.0.2,>=0.0.1->langchain[all]) (0.3.6)\n",
            "Requirement already satisfied: sqlitedict>=2.0.0 in /usr/local/lib/python3.8/dist-packages (from manifest-ml<0.0.2,>=0.0.1->langchain[all]) (2.1.0)\n",
            "Requirement already satisfied: tqdm>=4.64.0 in /usr/local/lib/python3.8/dist-packages (from manifest-ml<0.0.2,>=0.0.1->langchain[all]) (4.64.1)\n",
            "Requirement already satisfied: joblib in /usr/local/lib/python3.8/dist-packages (from nltk<4,>=3->langchain[all]) (1.2.0)\n",
            "Requirement already satisfied: regex>=2021.8.3 in /usr/local/lib/python3.8/dist-packages (from nltk<4,>=3->langchain[all]) (2022.6.2)\n",
            "Requirement already satisfied: click in /usr/local/lib/python3.8/dist-packages (from nltk<4,>=3->langchain[all]) (7.1.2)\n",
            "Requirement already satisfied: loguru>=0.5.0 in /usr/local/lib/python3.8/dist-packages (from pinecone-client<3,>=2->langchain[all]) (0.6.0)\n",
            "Requirement already satisfied: dnspython>=2.0.0 in /usr/local/lib/python3.8/dist-packages (from pinecone-client<3,>=2->langchain[all]) (2.2.1)\n",
            "Requirement already satisfied: urllib3>=1.21.1 in /usr/local/lib/python3.8/dist-packages (from pinecone-client<3,>=2->langchain[all]) (1.26.14)\n",
            "Requirement already satisfied: python-dateutil>=2.5.3 in /usr/local/lib/python3.8/dist-packages (from pinecone-client<3,>=2->langchain[all]) (2.8.2)\n",
            "Requirement already satisfied: typing-extensions>=3.7.4 in /usr/local/lib/python3.8/dist-packages (from pinecone-client<3,>=2->langchain[all]) (4.4.0)\n",
            "Requirement already satisfied: grpcio-tools>=1.41.0 in /usr/local/lib/python3.8/dist-packages (from qdrant-client<0.12.0,>=0.11.7->langchain[all]) (1.51.1)\n",
            "Requirement already satisfied: grpcio>=1.41.0 in /usr/local/lib/python3.8/dist-packages (from qdrant-client<0.12.0,>=0.11.7->langchain[all]) (1.51.1)\n",
            "Requirement already satisfied: httpx[http2]>=0.14.0 in /usr/local/lib/python3.8/dist-packages (from qdrant-client<0.12.0,>=0.11.7->langchain[all]) (0.23.3)\n",
            "Requirement already satisfied: async-timeout>=4.0.2 in /usr/local/lib/python3.8/dist-packages (from redis<5,>=4->langchain[all]) (4.0.2)\n",
            "Requirement already satisfied: certifi>=2017.4.17 in /usr/local/lib/python3.8/dist-packages (from requests<3,>=2->langchain[all]) (2022.12.7)\n",
            "Requirement already satisfied: charset-normalizer<4,>=2 in /usr/local/lib/python3.8/dist-packages (from requests<3,>=2->langchain[all]) (2.1.1)\n",
            "Requirement already satisfied: idna<4,>=2.5 in /usr/local/lib/python3.8/dist-packages (from requests<3,>=2->langchain[all]) (2.10)\n",
            "Requirement already satisfied: cymem<2.1.0,>=2.0.2 in /usr/local/lib/python3.8/dist-packages (from spacy<4,>=3->langchain[all]) (2.0.7)\n",
            "Requirement already satisfied: thinc<8.2.0,>=8.1.0 in /usr/local/lib/python3.8/dist-packages (from spacy<4,>=3->langchain[all]) (8.1.6)\n",
            "Requirement already satisfied: typer<0.8.0,>=0.3.0 in /usr/local/lib/python3.8/dist-packages (from spacy<4,>=3->langchain[all]) (0.7.0)\n",
            "Requirement already satisfied: spacy-legacy<3.1.0,>=3.0.10 in /usr/local/lib/python3.8/dist-packages (from spacy<4,>=3->langchain[all]) (3.0.11)\n",
            "Requirement already satisfied: wasabi<1.1.0,>=0.9.1 in /usr/local/lib/python3.8/dist-packages (from spacy<4,>=3->langchain[all]) (0.10.1)\n",
            "Requirement already satisfied: catalogue<2.1.0,>=2.0.6 in /usr/local/lib/python3.8/dist-packages (from spacy<4,>=3->langchain[all]) (2.0.8)\n",
            "Requirement already satisfied: langcodes<4.0.0,>=3.2.0 in /usr/local/lib/python3.8/dist-packages (from spacy<4,>=3->langchain[all]) (3.3.0)\n",
            "Requirement already satisfied: preshed<3.1.0,>=3.0.2 in /usr/local/lib/python3.8/dist-packages (from spacy<4,>=3->langchain[all]) (3.0.8)\n",
            "Requirement already satisfied: setuptools in /usr/local/lib/python3.8/dist-packages (from spacy<4,>=3->langchain[all]) (57.4.0)\n",
            "Requirement already satisfied: srsly<3.0.0,>=2.4.3 in /usr/local/lib/python3.8/dist-packages (from spacy<4,>=3->langchain[all]) (2.4.5)\n",
            "Requirement already satisfied: smart-open<7.0.0,>=5.2.1 in /usr/local/lib/python3.8/dist-packages (from spacy<4,>=3->langchain[all]) (6.3.0)\n",
            "Requirement already satisfied: packaging>=20.0 in /usr/local/lib/python3.8/dist-packages (from spacy<4,>=3->langchain[all]) (21.3)\n",
            "Requirement already satisfied: murmurhash<1.1.0,>=0.28.0 in /usr/local/lib/python3.8/dist-packages (from spacy<4,>=3->langchain[all]) (1.0.9)\n",
            "Requirement already satisfied: pathy>=0.3.5 in /usr/local/lib/python3.8/dist-packages (from spacy<4,>=3->langchain[all]) (0.10.1)\n",
            "Requirement already satisfied: spacy-loggers<2.0.0,>=1.0.0 in /usr/local/lib/python3.8/dist-packages (from spacy<4,>=3->langchain[all]) (1.0.4)\n",
            "Requirement already satisfied: greenlet!=0.4.17 in /usr/local/lib/python3.8/dist-packages (from SQLAlchemy<2,>=1->langchain[all]) (2.0.1)\n",
            "Requirement already satisfied: tokenizers!=0.11.3,<0.14,>=0.11.1 in /usr/local/lib/python3.8/dist-packages (from transformers<5,>=4->langchain[all]) (0.13.2)\n",
            "Requirement already satisfied: filelock in /usr/local/lib/python3.8/dist-packages (from transformers<5,>=4->langchain[all]) (3.9.0)\n",
            "Requirement already satisfied: huggingface-hub<1.0,>=0.10.0 in /usr/local/lib/python3.8/dist-packages (from transformers<5,>=4->langchain[all]) (0.11.1)\n",
            "Requirement already satisfied: validators<0.20.0,>=0.18.2 in /usr/local/lib/python3.8/dist-packages (from weaviate-client<4,>=3->langchain[all]) (0.19.0)\n",
            "Requirement already satisfied: authlib>=1.1.0 in /usr/local/lib/python3.8/dist-packages (from weaviate-client<4,>=3->langchain[all]) (1.2.0)\n",
            "Requirement already satisfied: cryptography>=3.2 in /usr/local/lib/python3.8/dist-packages (from authlib>=1.1.0->weaviate-client<4,>=3->langchain[all]) (39.0.0)\n",
            "Requirement already satisfied: protobuf!=3.20.0,!=3.20.1,!=4.21.0,!=4.21.1,!=4.21.2,!=4.21.3,!=4.21.4,!=4.21.5,<5.0.0dev,>=3.19.5 in /usr/local/lib/python3.8/dist-packages (from google-api-core!=2.0.*,!=2.1.*,!=2.2.*,!=2.3.0,<3.0.0dev,>=1.31.5->google-api-python-client==2.70.0->langchain[all]) (4.21.12)\n",
            "Requirement already satisfied: googleapis-common-protos<2.0dev,>=1.56.2 in /usr/local/lib/python3.8/dist-packages (from google-api-core!=2.0.*,!=2.1.*,!=2.2.*,!=2.3.0,<3.0.0dev,>=1.31.5->google-api-python-client==2.70.0->langchain[all]) (1.58.0)\n",
            "Requirement already satisfied: pyasn1-modules>=0.2.1 in /usr/local/lib/python3.8/dist-packages (from google-auth<3.0.0dev,>=1.19.0->google-api-python-client==2.70.0->langchain[all]) (0.2.8)\n",
            "Requirement already satisfied: cachetools<6.0,>=2.0.0 in /usr/local/lib/python3.8/dist-packages (from google-auth<3.0.0dev,>=1.19.0->google-api-python-client==2.70.0->langchain[all]) (5.2.1)\n",
            "Requirement already satisfied: six>=1.9.0 in /usr/local/lib/python3.8/dist-packages (from google-auth<3.0.0dev,>=1.19.0->google-api-python-client==2.70.0->langchain[all]) (1.15.0)\n",
            "Requirement already satisfied: rsa<5,>=3.1.4 in /usr/local/lib/python3.8/dist-packages (from google-auth<3.0.0dev,>=1.19.0->google-api-python-client==2.70.0->langchain[all]) (4.9)\n",
            "Requirement already satisfied: sniffio in /usr/local/lib/python3.8/dist-packages (from httpx[http2]>=0.14.0->qdrant-client<0.12.0,>=0.11.7->langchain[all]) (1.3.0)\n",
            "Requirement already satisfied: rfc3986[idna2008]<2,>=1.3 in /usr/local/lib/python3.8/dist-packages (from httpx[http2]>=0.14.0->qdrant-client<0.12.0,>=0.11.7->langchain[all]) (1.5.0)\n",
            "Requirement already satisfied: httpcore<0.17.0,>=0.15.0 in /usr/local/lib/python3.8/dist-packages (from httpx[http2]>=0.14.0->qdrant-client<0.12.0,>=0.11.7->langchain[all]) (0.16.3)\n",
            "Requirement already satisfied: h2<5,>=3 in /usr/local/lib/python3.8/dist-packages (from httpx[http2]>=0.14.0->qdrant-client<0.12.0,>=0.11.7->langchain[all]) (4.1.0)\n",
            "Requirement already satisfied: pyparsing!=3.0.5,>=2.0.2 in /usr/local/lib/python3.8/dist-packages (from packaging>=20.0->spacy<4,>=3->langchain[all]) (3.0.9)\n",
            "Requirement already satisfied: confection<1.0.0,>=0.0.1 in /usr/local/lib/python3.8/dist-packages (from thinc<8.2.0,>=8.1.0->spacy<4,>=3->langchain[all]) (0.0.3)\n",
            "Requirement already satisfied: blis<0.8.0,>=0.7.8 in /usr/local/lib/python3.8/dist-packages (from thinc<8.2.0,>=8.1.0->spacy<4,>=3->langchain[all]) (0.7.9)\n",
            "Requirement already satisfied: decorator>=3.4.0 in /usr/local/lib/python3.8/dist-packages (from validators<0.20.0,>=0.18.2->weaviate-client<4,>=3->langchain[all]) (4.4.2)\n",
            "Requirement already satisfied: cffi>=1.12 in /usr/local/lib/python3.8/dist-packages (from cryptography>=3.2->authlib>=1.1.0->weaviate-client<4,>=3->langchain[all]) (1.15.1)\n",
            "Requirement already satisfied: hyperframe<7,>=6.0 in /usr/local/lib/python3.8/dist-packages (from h2<5,>=3->httpx[http2]>=0.14.0->qdrant-client<0.12.0,>=0.11.7->langchain[all]) (6.0.1)\n",
            "Requirement already satisfied: hpack<5,>=4.0 in /usr/local/lib/python3.8/dist-packages (from h2<5,>=3->httpx[http2]>=0.14.0->qdrant-client<0.12.0,>=0.11.7->langchain[all]) (4.0.0)\n",
            "Requirement already satisfied: anyio<5.0,>=3.0 in /usr/local/lib/python3.8/dist-packages (from httpcore<0.17.0,>=0.15.0->httpx[http2]>=0.14.0->qdrant-client<0.12.0,>=0.11.7->langchain[all]) (3.6.2)\n",
            "Requirement already satisfied: h11<0.15,>=0.13 in /usr/local/lib/python3.8/dist-packages (from httpcore<0.17.0,>=0.15.0->httpx[http2]>=0.14.0->qdrant-client<0.12.0,>=0.11.7->langchain[all]) (0.14.0)\n",
            "Requirement already satisfied: pyasn1<0.5.0,>=0.4.6 in /usr/local/lib/python3.8/dist-packages (from pyasn1-modules>=0.2.1->google-auth<3.0.0dev,>=1.19.0->google-api-python-client==2.70.0->langchain[all]) (0.4.8)\n",
            "Requirement already satisfied: pycparser in /usr/local/lib/python3.8/dist-packages (from cffi>=1.12->cryptography>=3.2->authlib>=1.1.0->weaviate-client<4,>=3->langchain[all]) (2.21)\n"
          ]
        }
      ]
    },
    {
      "cell_type": "code",
      "source": [
        "pip install openai"
      ],
      "metadata": {
        "colab": {
          "base_uri": "https://localhost:8080/"
        },
        "id": "iszPMpygkFPT",
        "outputId": "436eed2e-e237-4560-e72c-bd581ef70701"
      },
      "execution_count": null,
      "outputs": [
        {
          "output_type": "stream",
          "name": "stdout",
          "text": [
            "Looking in indexes: https://pypi.org/simple, https://us-python.pkg.dev/colab-wheels/public/simple/\n",
            "Requirement already satisfied: openai in /usr/local/lib/python3.8/dist-packages (0.26.2)\n",
            "Requirement already satisfied: requests>=2.20 in /usr/local/lib/python3.8/dist-packages (from openai) (2.28.2)\n",
            "Requirement already satisfied: aiohttp in /usr/local/lib/python3.8/dist-packages (from openai) (3.8.3)\n",
            "Requirement already satisfied: tqdm in /usr/local/lib/python3.8/dist-packages (from openai) (4.64.1)\n",
            "Requirement already satisfied: charset-normalizer<4,>=2 in /usr/local/lib/python3.8/dist-packages (from requests>=2.20->openai) (2.1.1)\n",
            "Requirement already satisfied: certifi>=2017.4.17 in /usr/local/lib/python3.8/dist-packages (from requests>=2.20->openai) (2022.12.7)\n",
            "Requirement already satisfied: urllib3<1.27,>=1.21.1 in /usr/local/lib/python3.8/dist-packages (from requests>=2.20->openai) (1.26.14)\n",
            "Requirement already satisfied: idna<4,>=2.5 in /usr/local/lib/python3.8/dist-packages (from requests>=2.20->openai) (2.10)\n",
            "Requirement already satisfied: yarl<2.0,>=1.0 in /usr/local/lib/python3.8/dist-packages (from aiohttp->openai) (1.8.2)\n",
            "Requirement already satisfied: async-timeout<5.0,>=4.0.0a3 in /usr/local/lib/python3.8/dist-packages (from aiohttp->openai) (4.0.2)\n",
            "Requirement already satisfied: aiosignal>=1.1.2 in /usr/local/lib/python3.8/dist-packages (from aiohttp->openai) (1.3.1)\n",
            "Requirement already satisfied: attrs>=17.3.0 in /usr/local/lib/python3.8/dist-packages (from aiohttp->openai) (22.2.0)\n",
            "Requirement already satisfied: multidict<7.0,>=4.5 in /usr/local/lib/python3.8/dist-packages (from aiohttp->openai) (6.0.4)\n",
            "Requirement already satisfied: frozenlist>=1.1.1 in /usr/local/lib/python3.8/dist-packages (from aiohttp->openai) (1.3.3)\n"
          ]
        }
      ]
    },
    {
      "cell_type": "code",
      "source": [
        "import os\n",
        "os.environ[\"OPENAI_API_KEY\"] = \"    \""
      ],
      "metadata": {
        "id": "8scuafalk4PS"
      },
      "execution_count": null,
      "outputs": []
    },
    {
      "cell_type": "code",
      "source": [
        "from langchain.llms import OpenAI\n",
        "llm = OpenAI(temperature=0.9)\n",
        "text = \"What day of the week was it on 15 April 1973?\"\n",
        "print(llm(text))"
      ],
      "metadata": {
        "colab": {
          "base_uri": "https://localhost:8080/"
        },
        "id": "4L2c5cnflJol",
        "outputId": "5ebb094c-949c-4e25-eff3-352b528172e3"
      },
      "execution_count": null,
      "outputs": [
        {
          "output_type": "stream",
          "name": "stdout",
          "text": [
            "\n",
            "\n",
            "It was a Monday.\n"
          ]
        }
      ]
    },
    {
      "cell_type": "code",
      "source": [
        "from langchain.prompts import PromptTemplate\n",
        "\n",
        "prompt = PromptTemplate(\n",
        "    input_variables=[\"product\"],\n",
        "    template=\"What is a good name for a company that makes {product}?\",\n",
        ")"
      ],
      "metadata": {
        "id": "X_wiM35Plctl"
      },
      "execution_count": null,
      "outputs": []
    },
    {
      "cell_type": "code",
      "source": [
        "print(prompt.format(product=\"typing machines\"))"
      ],
      "metadata": {
        "colab": {
          "base_uri": "https://localhost:8080/"
        },
        "id": "jQtUiN4ulleh",
        "outputId": "1f0de5f6-2da7-427b-d35c-8dcfa1f3edb5"
      },
      "execution_count": null,
      "outputs": [
        {
          "output_type": "stream",
          "name": "stdout",
          "text": [
            "What is a good name for a company that makes typing machines?\n"
          ]
        }
      ]
    },
    {
      "cell_type": "code",
      "source": [
        "llm = OpenAI(temperature=0.9)\n",
        "text = (prompt.format(product=\"typing machines\"))\n",
        "print(llm(text))"
      ],
      "metadata": {
        "colab": {
          "base_uri": "https://localhost:8080/"
        },
        "id": "8UK8NZb5oFza",
        "outputId": "7b6191f1-76c2-417f-8803-d4107754d717"
      },
      "execution_count": null,
      "outputs": [
        {
          "output_type": "stream",
          "name": "stdout",
          "text": [
            "\n",
            "\n",
            "Keystrike Technologies\n"
          ]
        }
      ]
    },
    {
      "cell_type": "code",
      "source": [
        "from langchain.llms import OpenAI\n",
        "from langchain.chains import LLMChain\n",
        "from langchain.prompts import PromptTemplate"
      ],
      "metadata": {
        "id": "y-NbLGhBoOIz"
      },
      "execution_count": null,
      "outputs": []
    },
    {
      "cell_type": "code",
      "source": [
        "# This is an LLMChain to write a synopsis given a title of a play and the era it is set in.\n",
        "llm = OpenAI(temperature=.7)\n",
        "template = \"\"\"You are a playwright. Given the title of play and the era it is set in, it is your job to write a synopsis for that title.\n",
        "\n",
        "Title: {title}\n",
        "Era: {era}\n",
        "Playwright: This is a synopsis for the above play:\"\"\"\n",
        "prompt_template = PromptTemplate(input_variables=[\"title\", 'era'], template=template)\n",
        "synopsis_chain = LLMChain(llm=llm, prompt=prompt_template, output_key=\"synopsis\")"
      ],
      "metadata": {
        "id": "AHnOSgeruLp9"
      },
      "execution_count": null,
      "outputs": []
    },
    {
      "cell_type": "code",
      "source": [
        "# This is an LLMChain to write a review of a play given a synopsis.\n",
        "llm = OpenAI(temperature=.7)\n",
        "template = \"\"\"You are a play critic from the New York Times. Given the synopsis of play, it is your job to write a review for that play.\n",
        "\n",
        "Play Synopsis:\n",
        "{synopsis}\n",
        "Review from a New York Times play critic of the above play:\"\"\"\n",
        "prompt_template = PromptTemplate(input_variables=[\"synopsis\"], template=template)\n",
        "review_chain = LLMChain(llm=llm, prompt=prompt_template, output_key=\"review\")"
      ],
      "metadata": {
        "id": "v42I30xfuQa3"
      },
      "execution_count": null,
      "outputs": []
    },
    {
      "cell_type": "code",
      "source": [
        "# This is the overall chain where we run these two chains in sequence.\n",
        "from langchain.chains import SequentialChain\n",
        "overall_chain = SequentialChain(\n",
        "    chains=[synopsis_chain, review_chain],\n",
        "    input_variables=[\"era\", \"title\"],\n",
        "    # Here we return multiple variables\n",
        "    output_variables=[\"synopsis\", \"review\"],\n",
        "    verbose=True)"
      ],
      "metadata": {
        "id": "RQtZ97OLuVTh"
      },
      "execution_count": null,
      "outputs": []
    },
    {
      "cell_type": "code",
      "source": [
        "review = overall_chain({\"title\":\"Tragedy at sunset on the beach\", \"era\": \"Victorian England\"})\n",
        "print (review)"
      ],
      "metadata": {
        "colab": {
          "base_uri": "https://localhost:8080/"
        },
        "id": "r2Dr7kSJuY88",
        "outputId": "5896c156-931c-4ddb-a61b-ac23cdc56ce6"
      },
      "execution_count": null,
      "outputs": [
        {
          "output_type": "stream",
          "name": "stdout",
          "text": [
            "\n",
            "\n",
            "\u001b[1m> Entering new SequentialChain chain...\u001b[0m\n",
            "\n",
            "\u001b[1m> Finished chain.\u001b[0m\n",
            "{'title': 'Tragedy at sunset on the beach', 'era': 'Victorian England', 'synopsis': \"\\n\\nTragedy at Sunset on the Beach is a tragic play set in Victorian England. The play follows the story of two star-crossed lovers, Rose and Edward. Rose is a young woman from a wealthy family, while Edward is a sailor from a lower-class background. Despite their differences, the two fall in love and plan to marry. \\n\\nUnfortunately, Rose's family is against the union. They try to keep the lovers apart, but their love is too strong to be denied. When Rose's father discovers their plans, he forbids the marriage and threatens to disown Rose if she goes through with it. \\n\\nThe lovers decide to elope, and make plans to meet at sunset on the beach for their secret wedding. But when Rose arrives, she finds Edward dead, having been shot by her father in a fit of rage. Heartbroken, Rose collapses beside her beloved's body, and the play ends with the tragic sunset that marks the end of their love story.\", 'review': \"\\n\\nTragedy at Sunset on the Beach is a heartbreaking and tragic tale of forbidden love. The story follows Rose and Edward, two star-crossed lovers in Victorian England, as they attempt to overcome the obstacles that stand in the way of their union. Despite the family's objections, Rose and Edward's love is too strong to deny, and they plan to elope and marry at sunset on the beach. \\n\\nThe play is beautifully written and the characters are richly drawn. The audience is taken on an emotional journey as the two lovers fight for their love and attempt to overcome the odds. However, the ending is heartbreaking, as Rose arrives at the beach to find her beloved Edward dead. \\n\\nThis play is a powerful and moving exploration of love and its consequences. The actors bring the characters to life, and the story will stay with you long after the curtain closes. Tragedy at Sunset on the Beach is a must-see for anyone who loves a good tragedy.\"}\n"
          ]
        }
      ]
    },
    {
      "cell_type": "code",
      "source": [
        "##### Example two"
      ],
      "metadata": {
        "id": "bpax-NxRykM-"
      },
      "execution_count": null,
      "outputs": []
    },
    {
      "cell_type": "code",
      "source": [
        "from langchain.llms import OpenAI\n",
        "from langchain.chains import ConversationChain\n",
        "from langchain.chains.conversation.memory import ConversationBufferMemory\n",
        "\n",
        "\n",
        "llm = OpenAI(temperature=0)\n",
        "conversation = ConversationChain(\n",
        "    llm=llm,\n",
        "    verbose=True,\n",
        "    memory=ConversationBufferMemory()\n",
        ")"
      ],
      "metadata": {
        "id": "KfKVuAcW2o6U"
      },
      "execution_count": null,
      "outputs": []
    },
    {
      "cell_type": "code",
      "source": [
        "conversation.predict(input=\"Hi there!\")"
      ],
      "metadata": {
        "colab": {
          "base_uri": "https://localhost:8080/",
          "height": 272
        },
        "id": "0E8ow5xR2qNd",
        "outputId": "4b0820ee-0127-4798-8b4c-4e872db1c63b"
      },
      "execution_count": null,
      "outputs": [
        {
          "output_type": "stream",
          "name": "stdout",
          "text": [
            "\n",
            "\n",
            "\u001b[1m> Entering new ConversationChain chain...\u001b[0m\n",
            "Prompt after formatting:\n",
            "\u001b[32;1m\u001b[1;3mThe following is a friendly conversation between a human and an AI. The AI is talkative and provides lots of specific details from its context. If the AI does not know the answer to a question, it truthfully says it does not know.\n",
            "\n",
            "Current conversation:\n",
            "\n",
            "Human: Hi there!\n",
            "AI:\u001b[0m\n",
            "\n",
            "\u001b[1m> Finished chain.\u001b[0m\n"
          ]
        },
        {
          "output_type": "execute_result",
          "data": {
            "text/plain": [
              "\" Hi there! It's nice to meet you. My name is AI. What's your name?\""
            ],
            "application/vnd.google.colaboratory.intrinsic+json": {
              "type": "string"
            }
          },
          "metadata": {},
          "execution_count": 22
        }
      ]
    },
    {
      "cell_type": "code",
      "source": [
        "conversation.predict(input=\"My name is Cobus\")"
      ],
      "metadata": {
        "colab": {
          "base_uri": "https://localhost:8080/",
          "height": 308
        },
        "id": "po4mUURv2vpC",
        "outputId": "3b64e645-bcac-4d27-da53-e2cf9e99ac93"
      },
      "execution_count": null,
      "outputs": [
        {
          "output_type": "stream",
          "name": "stdout",
          "text": [
            "\n",
            "\n",
            "\u001b[1m> Entering new ConversationChain chain...\u001b[0m\n",
            "Prompt after formatting:\n",
            "\u001b[32;1m\u001b[1;3mThe following is a friendly conversation between a human and an AI. The AI is talkative and provides lots of specific details from its context. If the AI does not know the answer to a question, it truthfully says it does not know.\n",
            "\n",
            "Current conversation:\n",
            "\n",
            "Human: Hi there!\n",
            "AI:  Hi there! It's nice to meet you. My name is AI. What's your name?\n",
            "Human: My name is Cobus\n",
            "AI:\u001b[0m\n",
            "\n",
            "\u001b[1m> Finished chain.\u001b[0m\n"
          ]
        },
        {
          "output_type": "execute_result",
          "data": {
            "text/plain": [
              "' Nice to meet you, Cobus! What can I do for you today?'"
            ],
            "application/vnd.google.colaboratory.intrinsic+json": {
              "type": "string"
            }
          },
          "metadata": {},
          "execution_count": 23
        }
      ]
    },
    {
      "cell_type": "code",
      "source": [
        "######### Input chain example"
      ],
      "metadata": {
        "colab": {
          "base_uri": "https://localhost:8080/"
        },
        "id": "DE-FNN8O83no",
        "outputId": "c0113b10-f368-4caf-811b-0c0c0e189e6f"
      },
      "execution_count": null,
      "outputs": [
        {
          "output_type": "stream",
          "name": "stdout",
          "text": [
            "<bound method LLMChain.predict of ConversationChain(memory=ConversationBufferMemory(human_prefix='Human', ai_prefix='AI', buffer=\"\\nHuman: Hi there!\\nAI:  Hi there! It's nice to meet you. My name is AI. What's your name?\\nHuman: My name is Cobus\\nAI:  Nice to meet you, Cobus! What can I do for you today?\", output_key=None, input_key=None, memory_key='history'), callback_manager=SharedCallbackManager(ignore_llm=False, ignore_chain=False, ignore_agent=False), verbose=True, prompt=PromptTemplate(input_variables=['history', 'input'], output_parser=None, template='The following is a friendly conversation between a human and an AI. The AI is talkative and provides lots of specific details from its context. If the AI does not know the answer to a question, it truthfully says it does not know.\\n\\nCurrent conversation:\\n{history}\\nHuman: {input}\\nAI:', template_format='f-string'), llm=OpenAI(cache=None, verbose=False, callback_manager=SharedCallbackManager(ignore_llm=False, ignore_chain=False, ignore_agent=False), client=<class 'openai.api_resources.completion.Completion'>, model_name='text-davinci-003', temperature=0.0, max_tokens=256, top_p=1, frequency_penalty=0, presence_penalty=0, n=1, best_of=1, model_kwargs={}, openai_api_key=None, batch_size=20, request_timeout=None, logit_bias={}), output_key='response', input_key='input', buffer='')>\n"
          ]
        }
      ]
    },
    {
      "cell_type": "code",
      "source": [
        "############# Custom"
      ],
      "metadata": {
        "id": "h7HgT1fV9s0Z"
      },
      "execution_count": null,
      "outputs": []
    },
    {
      "cell_type": "code",
      "source": [
        "title = input('What is your title? ')\n",
        "print ('I have your title as ' + title)\n",
        "\n",
        "era = input('Lasty, from what era should the text be? ')\n",
        "print ('I have your era as ' + era)"
      ],
      "metadata": {
        "colab": {
          "base_uri": "https://localhost:8080/"
        },
        "id": "Kg4WqTx8GsPi",
        "outputId": "a281fb1f-e687-46ec-caf7-2ad065993fe7"
      },
      "execution_count": null,
      "outputs": [
        {
          "output_type": "stream",
          "name": "stdout",
          "text": [
            "What is your title? Tragedy at sunset on the beach\n",
            "I have your title as Tragedy at sunset on the beach\n",
            "Lasty, from what era should the text be? Victorian \n",
            "I have your era as Victorian \n"
          ]
        }
      ]
    },
    {
      "cell_type": "code",
      "source": [
        "# This is an LLMChain to write a synopsis given a title of a play and the era it is set in.\n",
        "llm = OpenAI(temperature=.7)\n",
        "template = \"\"\"You are a playwright. Given the title of play and the era it is set in, it is your job to write a synopsis for that title.\n",
        "\n",
        "Title: {title}\n",
        "Era: {era}\n",
        "Playwright: This is a synopsis for the above play:\"\"\"\n",
        "prompt_template = PromptTemplate(input_variables=[\"title\", 'era'], template=template)\n",
        "synopsis_chain = LLMChain(llm=llm, prompt=prompt_template, output_key=\"synopsis\")"
      ],
      "metadata": {
        "id": "M9Wy5RxnluDd"
      },
      "execution_count": null,
      "outputs": []
    },
    {
      "cell_type": "code",
      "source": [
        "# This is an LLMChain to write a review of a play given a synopsis.\n",
        "llm = OpenAI(temperature=.7)\n",
        "template = \"\"\"You are a play critic from the New York Times. Given the synopsis of play, it is your job to write a review for that play.\n",
        "\n",
        "Play Synopsis:\n",
        "{synopsis}\n",
        "Review from a New York Times play critic of the above play:\"\"\"\n",
        "prompt_template = PromptTemplate(input_variables=[\"synopsis\"], template=template)\n",
        "review_chain = LLMChain(llm=llm, prompt=prompt_template, output_key=\"review\")"
      ],
      "metadata": {
        "id": "hj2YBnEgl5IV"
      },
      "execution_count": null,
      "outputs": []
    },
    {
      "cell_type": "code",
      "source": [
        "# This is the overall chain where we run these two chains in sequence.\n",
        "from langchain.chains import SequentialChain\n",
        "overall_chain = SequentialChain(\n",
        "    chains=[synopsis_chain, review_chain],\n",
        "    input_variables=[\"era\", \"title\"],\n",
        "    # Here we return multiple variables\n",
        "    output_variables=[\"synopsis\", \"review\"],\n",
        "    verbose=True)"
      ],
      "metadata": {
        "id": "rir7FFcJl7VN"
      },
      "execution_count": null,
      "outputs": []
    },
    {
      "cell_type": "code",
      "source": [
        "review = overall_chain({\"title\":title, \"era\": era})\n",
        "print (review)"
      ],
      "metadata": {
        "colab": {
          "base_uri": "https://localhost:8080/"
        },
        "id": "YTEbpvUpz4HN",
        "outputId": "f0de1dd3-5347-4de5-cd6a-bf10413a72f2"
      },
      "execution_count": null,
      "outputs": [
        {
          "output_type": "stream",
          "name": "stdout",
          "text": [
            "\n",
            "\n",
            "\u001b[1m> Entering new SequentialChain chain...\u001b[0m\n",
            "\n",
            "\u001b[1m> Finished chain.\u001b[0m\n",
            "{'title': 'Tragedy at sunset on the beach', 'era': 'Victorian ', 'synopsis': \"\\n\\nTragedy at Sunset on the Beach is set in the Victorian era and tells the story of a young girl, Amelia, whose search for love and happiness leads her to a fateful encounter with a mysterious stranger on the beach at sunset. While walking along the shore, Amelia meets a man named William, who presents her with a rose as a symbol of his affection. Though she initially resists his advances, Amelia eventually finds herself drawn to William and the two quickly grow close. \\n\\nHowever, as the sun sets, a secret from William's past is revealed that changes everything. It turns out that William is a wanted criminal and is being pursued by the police. After a tense confrontation, William is arrested and taken away, leaving Amelia heartbroken and alone.\\n\\nIn the aftermath of their chance encounter, Amelia is forced to grapple with the tragedy of her unrequited love, and the harsh realities of life. Her journey serves as a reminder that love isn't always as simple and straightforward as it may seem.\", 'review': '\\n\\nTragedy at Sunset on the Beach is a captivating tale of love, loss, and the power of the human spirit. The set in the Victorian era allows for a unique perspective on the themes of the story, and the performance by the cast is truly remarkable.\\n\\nThe story follows Amelia, a young girl whose search for love and happiness leads her to a fateful encounter with a mysterious stranger on the beach at sunset. We watch as Amelia’s relationship with the stranger, William, develops and evolves, only to be cut short when a secret from his past is revealed. This revelation forces Amelia to confront the harsh realities of life and the tragedy of her unrequited love.\\n\\nThe play is a thought-provoking exploration of love, sacrifice, and the power of human connection. It’s a story that is sure to resonate with audiences who are looking for a story of love, loss, and hope. Highly recommended.'}\n"
          ]
        }
      ]
    }
  ]
}