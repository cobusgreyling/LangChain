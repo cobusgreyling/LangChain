{
  "nbformat": 4,
  "nbformat_minor": 0,
  "metadata": {
    "colab": {
      "provenance": [],
      "authorship_tag": "ABX9TyNNr4Tb1n0jJv9f4z2y0EXc"
    },
    "kernelspec": {
      "name": "python3",
      "display_name": "Python 3"
    },
    "language_info": {
      "name": "python"
    }
  },
  "cells": [
    {
      "cell_type": "code",
      "execution_count": null,
      "metadata": {
        "id": "hW_5xF5fzLi6"
      },
      "outputs": [],
      "source": [
        "pip install langchain\n",
        "pip install langchain_experimental\n",
        "pip install openai\n",
        "pip install google-search-results"
      ]
    },
    {
      "cell_type": "code",
      "source": [
        "import os\n",
        "os.environ['OPENAI_API_KEY'] = str(\"xxxxxxxxxxxxxxxxx\")\n",
        "os.environ[\"SERPAPI_API_KEY\"] = str(\"xxxxxxxxxxxxxxxxx\")\n",
        "from langchain.chat_models import ChatOpenAI\n",
        "from langchain_experimental.plan_and_execute import PlanAndExecute, load_agent_executor, load_chat_planner\n",
        "from langchain.llms import OpenAI\n",
        "from langchain import SerpAPIWrapper\n",
        "from langchain.agents.tools import Tool\n",
        "from langchain import LLMMathChain\n",
        "search = SerpAPIWrapper()\n",
        "llm = OpenAI(temperature=0)\n",
        "llm_math_chain = LLMMathChain.from_llm(llm=llm, verbose=True)\n",
        "tools = [\n",
        "    Tool(\n",
        "        name = \"Search\",\n",
        "        func=search.run,\n",
        "        description=\"useful for when you need to answer questions about current events\"\n",
        "    ),\n",
        "    Tool(\n",
        "        name=\"Calculator\",\n",
        "        func=llm_math_chain.run,\n",
        "        description=\"useful for when you need to answer questions about math\"\n",
        "    ),\n",
        "]\n",
        "\n",
        "model = ChatOpenAI(temperature=0)\n",
        "planner = load_chat_planner(model)\n",
        "executor = load_agent_executor(model, tools, verbose=True)\n",
        "agent = PlanAndExecute(planner=planner, executor=executor, verbose=True)"
      ],
      "metadata": {
        "id": "vZXGL21izPV6"
      },
      "execution_count": null,
      "outputs": []
    },
    {
      "cell_type": "code",
      "source": [
        "agent.run(\"Who is the founder of SpaceX and what is the square root of the birth year of his first wife?\")"
      ],
      "metadata": {
        "id": "-kzacKzLzUbw"
      },
      "execution_count": null,
      "outputs": []
    }
  ]
}